{
 "cells": [
  {
   "cell_type": "code",
   "execution_count": 1,
   "id": "063f9406",
   "metadata": {},
   "outputs": [],
   "source": [
    "import numpy as np\n",
    "import pandas as pd\n",
    "import matplotlib.pyplot as plt\n",
    "%matplotlib inline\n",
    "\n",
    "from sklearn.datasets import load_iris\n",
    "from sklearn.model_selection import train_test_split\n",
    "\n",
    "from collections import Counter\n",
    "import math\n",
    "from math import log\n",
    "\n",
    "import pprint"
   ]
  },
  {
   "cell_type": "markdown",
   "id": "4e67a8d8",
   "metadata": {},
   "source": [
    "- ID3(based on information gain)\n",
    "- C4.5(based on information gain ratio)\n",
    "- CART(gini index)"
   ]
  },
  {
   "cell_type": "markdown",
   "id": "8aa6dc12",
   "metadata": {},
   "source": [
    "#### entropy: $H(x) = -\\sum_{i=1}^{n}p_i\\log{p_i}$\n",
    "#### conditional entropy: $H(X|Y)=\\sum_$"
   ]
  },
  {
   "cell_type": "code",
   "execution_count": 27,
   "id": "68744a91",
   "metadata": {},
   "outputs": [],
   "source": [
    "def create_data():\n",
    "    dataSet = [[1, 1, 'yes'],\n",
    "           [1, 1, 'yes'],\n",
    "           [1, 0, 'no'],\n",
    "           [0, 1, 'no'],\n",
    "           [0, 1, 'no']]\n",
    "    labels = ['no surfacing', 'flippers']\n",
    "    return dataSet, labels"
   ]
  },
  {
   "cell_type": "code",
   "execution_count": 28,
   "id": "8e2d2e96",
   "metadata": {},
   "outputs": [],
   "source": [
    "datasets, labels = create_data()"
   ]
  },
  {
   "cell_type": "code",
   "execution_count": 4,
   "id": "d1f71876",
   "metadata": {},
   "outputs": [],
   "source": [
    "train_data = pd.DataFrame(datasets, columns=labels)"
   ]
  },
  {
   "cell_type": "code",
   "execution_count": 5,
   "id": "0d3fcdb2",
   "metadata": {},
   "outputs": [
    {
     "data": {
      "text/html": [
       "<div>\n",
       "<style scoped>\n",
       "    .dataframe tbody tr th:only-of-type {\n",
       "        vertical-align: middle;\n",
       "    }\n",
       "\n",
       "    .dataframe tbody tr th {\n",
       "        vertical-align: top;\n",
       "    }\n",
       "\n",
       "    .dataframe thead th {\n",
       "        text-align: right;\n",
       "    }\n",
       "</style>\n",
       "<table border=\"1\" class=\"dataframe\">\n",
       "  <thead>\n",
       "    <tr style=\"text-align: right;\">\n",
       "      <th></th>\n",
       "      <th>年龄</th>\n",
       "      <th>有工作</th>\n",
       "      <th>有自己的房子</th>\n",
       "      <th>信贷情况</th>\n",
       "      <th>类别</th>\n",
       "    </tr>\n",
       "  </thead>\n",
       "  <tbody>\n",
       "    <tr>\n",
       "      <th>0</th>\n",
       "      <td>青年</td>\n",
       "      <td>否</td>\n",
       "      <td>否</td>\n",
       "      <td>一般</td>\n",
       "      <td>否</td>\n",
       "    </tr>\n",
       "    <tr>\n",
       "      <th>1</th>\n",
       "      <td>青年</td>\n",
       "      <td>否</td>\n",
       "      <td>否</td>\n",
       "      <td>好</td>\n",
       "      <td>否</td>\n",
       "    </tr>\n",
       "    <tr>\n",
       "      <th>2</th>\n",
       "      <td>青年</td>\n",
       "      <td>是</td>\n",
       "      <td>否</td>\n",
       "      <td>好</td>\n",
       "      <td>是</td>\n",
       "    </tr>\n",
       "    <tr>\n",
       "      <th>3</th>\n",
       "      <td>青年</td>\n",
       "      <td>是</td>\n",
       "      <td>是</td>\n",
       "      <td>一般</td>\n",
       "      <td>是</td>\n",
       "    </tr>\n",
       "    <tr>\n",
       "      <th>4</th>\n",
       "      <td>青年</td>\n",
       "      <td>否</td>\n",
       "      <td>否</td>\n",
       "      <td>一般</td>\n",
       "      <td>否</td>\n",
       "    </tr>\n",
       "    <tr>\n",
       "      <th>5</th>\n",
       "      <td>中年</td>\n",
       "      <td>否</td>\n",
       "      <td>否</td>\n",
       "      <td>一般</td>\n",
       "      <td>否</td>\n",
       "    </tr>\n",
       "    <tr>\n",
       "      <th>6</th>\n",
       "      <td>中年</td>\n",
       "      <td>否</td>\n",
       "      <td>否</td>\n",
       "      <td>好</td>\n",
       "      <td>否</td>\n",
       "    </tr>\n",
       "    <tr>\n",
       "      <th>7</th>\n",
       "      <td>中年</td>\n",
       "      <td>是</td>\n",
       "      <td>是</td>\n",
       "      <td>好</td>\n",
       "      <td>是</td>\n",
       "    </tr>\n",
       "    <tr>\n",
       "      <th>8</th>\n",
       "      <td>中年</td>\n",
       "      <td>否</td>\n",
       "      <td>是</td>\n",
       "      <td>非常好</td>\n",
       "      <td>是</td>\n",
       "    </tr>\n",
       "    <tr>\n",
       "      <th>9</th>\n",
       "      <td>中年</td>\n",
       "      <td>否</td>\n",
       "      <td>是</td>\n",
       "      <td>非常好</td>\n",
       "      <td>是</td>\n",
       "    </tr>\n",
       "    <tr>\n",
       "      <th>10</th>\n",
       "      <td>老年</td>\n",
       "      <td>否</td>\n",
       "      <td>是</td>\n",
       "      <td>非常好</td>\n",
       "      <td>是</td>\n",
       "    </tr>\n",
       "    <tr>\n",
       "      <th>11</th>\n",
       "      <td>老年</td>\n",
       "      <td>否</td>\n",
       "      <td>是</td>\n",
       "      <td>好</td>\n",
       "      <td>是</td>\n",
       "    </tr>\n",
       "    <tr>\n",
       "      <th>12</th>\n",
       "      <td>老年</td>\n",
       "      <td>是</td>\n",
       "      <td>否</td>\n",
       "      <td>好</td>\n",
       "      <td>是</td>\n",
       "    </tr>\n",
       "    <tr>\n",
       "      <th>13</th>\n",
       "      <td>老年</td>\n",
       "      <td>是</td>\n",
       "      <td>否</td>\n",
       "      <td>非常好</td>\n",
       "      <td>是</td>\n",
       "    </tr>\n",
       "    <tr>\n",
       "      <th>14</th>\n",
       "      <td>老年</td>\n",
       "      <td>否</td>\n",
       "      <td>否</td>\n",
       "      <td>一般</td>\n",
       "      <td>否</td>\n",
       "    </tr>\n",
       "  </tbody>\n",
       "</table>\n",
       "</div>"
      ],
      "text/plain": [
       "    年龄 有工作 有自己的房子 信贷情况 类别\n",
       "0   青年   否      否   一般  否\n",
       "1   青年   否      否    好  否\n",
       "2   青年   是      否    好  是\n",
       "3   青年   是      是   一般  是\n",
       "4   青年   否      否   一般  否\n",
       "5   中年   否      否   一般  否\n",
       "6   中年   否      否    好  否\n",
       "7   中年   是      是    好  是\n",
       "8   中年   否      是  非常好  是\n",
       "9   中年   否      是  非常好  是\n",
       "10  老年   否      是  非常好  是\n",
       "11  老年   否      是    好  是\n",
       "12  老年   是      否    好  是\n",
       "13  老年   是      否  非常好  是\n",
       "14  老年   否      否   一般  否"
      ]
     },
     "execution_count": 5,
     "metadata": {},
     "output_type": "execute_result"
    }
   ],
   "source": [
    "train_data"
   ]
  },
  {
   "cell_type": "code",
   "execution_count": 10,
   "id": "c6c6a342",
   "metadata": {},
   "outputs": [],
   "source": [
    "def calc_shannon_ent(dataset):\n",
    "    num_entries = len(dataset)\n",
    "    label_count = {}\n",
    "    for feat in dataset:\n",
    "        current_label = feat[-1]\n",
    "        if current_label not in label_count:\n",
    "            label_count[current_label] = 0\n",
    "        label_count[current_label] +=1\n",
    "    shannon_ent = 0\n",
    "    for num in label_count.values():\n",
    "        prob_i = num/num_entries\n",
    "        shannon_ent -= prob_i * log(prob_i, 2)\n",
    "    return shannon_ent\n",
    "\n"
   ]
  },
  {
   "cell_type": "code",
   "execution_count": 11,
   "id": "eccbfb78",
   "metadata": {},
   "outputs": [
    {
     "data": {
      "text/plain": [
       "0.9709505944546686"
      ]
     },
     "execution_count": 11,
     "metadata": {},
     "output_type": "execute_result"
    }
   ],
   "source": [
    "calc_shannon_ent(datasets)"
   ]
  },
  {
   "cell_type": "code",
   "execution_count": 25,
   "id": "1016eb68",
   "metadata": {},
   "outputs": [],
   "source": [
    "def split_dataset(dataset, axis, value):\n",
    "    ret_dataset = []\n",
    "    for feat in dataset:\n",
    "        if feat[axis] == value:\n",
    "            reduced_feat = feat[:axis]\n",
    "            reduced_feat.extend(feat[axis+1:])\n",
    "            ret_dataset.append(reduced_feat)\n",
    "    return ret_dataset\n",
    "\n",
    "def choose_best_feat_to_split(dataset):\n",
    "    num_feat = len(dataset[0])-1\n",
    "    base_ent = calc_shannon_ent(dataset)\n",
    "    best_info_gain = 0\n",
    "    best_feat = -1\n",
    "    for i in range(num_feat):\n",
    "        feat_list = [example[-1] for example in dataset]\n",
    "        unique_values = set(feat_list)\n",
    "        new_ent = 0\n",
    "        for value in unique_values:\n",
    "            subdataset = split_dataset(dataset, i, value)\n",
    "            prob_i = len(subdataset)/len(dataset)\n",
    "            new_ent += prob_i * calc_shannon_ent(subdataset)\n",
    "        info_gain = base_ent - new_ent\n",
    "        \n",
    "        if(info_gain > best_info_gain):\n",
    "            best_info_gain = info_gain\n",
    "            best_feat = i\n",
    "    return best_feat\n",
    "            "
   ]
  },
  {
   "cell_type": "code",
   "execution_count": 13,
   "id": "15df01f4",
   "metadata": {},
   "outputs": [],
   "source": [
    "def majority_cnt(class_list):\n",
    "    class_count = {}\n",
    "    for vote in class_list:\n",
    "        if vote not in class_count.keys():\n",
    "            class_count[vote] = 0\n",
    "        class_count[vote] += 1\n",
    "    sorted_class_count = sorted(class_count.items(), key=lambda item:item[1])\n",
    "    return sorted_class_count[0][0]"
   ]
  },
  {
   "cell_type": "code",
   "execution_count": 23,
   "id": "621b3c5d",
   "metadata": {},
   "outputs": [],
   "source": [
    "def create_tree(dataset, labels):\n",
    "    class_list = [example[-1] for example in dataset]\n",
    "    if class_list.count(class_list[0])==len(class_list):\n",
    "        return class_list[0]\n",
    "    if len(dataset[0])==1:\n",
    "        return majority_cnt(class_list)\n",
    "    best_feat = choose_best_feat_to_split(dataset)\n",
    "    best_feat_label = labels[best_feat]\n",
    "    my_tree = {best_feat_label:{}}\n",
    "    del (labels[best_feat])\n",
    "    feat_values = [example[best_feat] for example in dataset]\n",
    "    unique_value = set(feat_values)\n",
    "    for value in unique_value:\n",
    "        sublabels = labels[:]\n",
    "        my_tree[best_feat_label][value] = create_tree(split_dataset(dataset, best_feat, value), sublabels)\n",
    "    return my_tree"
   ]
  },
  {
   "cell_type": "code",
   "execution_count": 29,
   "id": "d18b8cc2",
   "metadata": {},
   "outputs": [
    {
     "data": {
      "text/plain": [
       "{'no surfacing': {0: 'no', 1: {'flippers': {0: 'no', 1: 'yes'}}}}"
      ]
     },
     "execution_count": 29,
     "metadata": {},
     "output_type": "execute_result"
    }
   ],
   "source": [
    "mytree = create_tree(datasets, labels)\n",
    "mytree"
   ]
  },
  {
   "cell_type": "code",
   "execution_count": null,
   "id": "0eecd694",
   "metadata": {},
   "outputs": [],
   "source": []
  }
 ],
 "metadata": {
  "kernelspec": {
   "display_name": "ML",
   "language": "python",
   "name": "ml"
  },
  "language_info": {
   "codemirror_mode": {
    "name": "ipython",
    "version": 3
   },
   "file_extension": ".py",
   "mimetype": "text/x-python",
   "name": "python",
   "nbconvert_exporter": "python",
   "pygments_lexer": "ipython3",
   "version": "3.8.0"
  }
 },
 "nbformat": 4,
 "nbformat_minor": 5
}
